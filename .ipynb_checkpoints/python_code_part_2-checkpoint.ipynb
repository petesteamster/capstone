{
 "cells": [
  {
   "cell_type": "code",
   "execution_count": 7,
   "metadata": {},
   "outputs": [
    {
     "name": "stdout",
     "output_type": "stream",
     "text": [
      "<class 'pandas.core.frame.DataFrame'>\n",
      "RangeIndex: 2000 entries, 0 to 1999\n",
      "Data columns (total 5 columns):\n",
      "x1    2000 non-null float64\n",
      "x2    2000 non-null float64\n",
      "x3    2000 non-null float64\n",
      "x4    2000 non-null float64\n",
      "x5    2000 non-null int64\n",
      "dtypes: float64(4), int64(1)\n",
      "memory usage: 78.2 KB\n",
      "None\n"
     ]
    }
   ],
   "source": [
    "import pandas as pd\n",
    "df_sim_data=pd.read_csv('sim_data.csv')\n",
    "df_amp_data=pd.read_csv('amp_data.csv')\n",
    "df_imputed_r_data=pd.read_csv('imputed_r_30_percent_data.csv')\n",
    "print(df_sim_data.info())"
   ]
  },
  {
   "cell_type": "code",
   "execution_count": 112,
   "metadata": {},
   "outputs": [
    {
     "name": "stdout",
     "output_type": "stream",
     "text": [
      "<class 'pandas.core.frame.DataFrame'>\n",
      "RangeIndex: 2000 entries, 0 to 1999\n",
      "Data columns (total 5 columns):\n",
      "x1    2000 non-null float64\n",
      "x2    1400 non-null float64\n",
      "x3    1400 non-null float64\n",
      "x4    1400 non-null float64\n",
      "x5    1400 non-null float64\n",
      "dtypes: float64(5)\n",
      "memory usage: 78.2 KB\n"
     ]
    }
   ],
   "source": [
    "df_amp_data=pd.read_csv('amp_data.csv')\n",
    "df_amp_data.info()"
   ]
  },
  {
   "cell_type": "markdown",
   "metadata": {},
   "source": [
    "#### Below we look at the distribution of the target (salary). Note that it is skewed to the right. We should apply a transformation in at attempt to get something more normal"
   ]
  },
  {
   "cell_type": "code",
   "execution_count": 113,
   "metadata": {},
   "outputs": [],
   "source": [
    "def show_distribution_hist(df,t_column,t_trans):\n",
    "    import matplotlib.pyplot as plt\n",
    "    import numpy as np\n",
    "    df[t_column].apply(t_trans).hist()\n",
    "    plt.show()"
   ]
  },
  {
   "cell_type": "code",
   "execution_count": 114,
   "metadata": {},
   "outputs": [
    {
     "data": {
      "image/png": "[encoded data removed]",
      "text/plain": [
       "<matplotlib.figure.Figure at 0x1a258a88d0>"
      ]
     },
     "metadata": {},
     "output_type": "display_data"
    }
   ],
   "source": [
    "# x1 will be the target variable\n",
    "import numpy as np\n",
    "show_distribution_hist(df_sim_data,'x1',lambda x: x)"
   ]
  },
  {
   "cell_type": "markdown",
   "metadata": {},
   "source": [
    "#### Below we apply a log tranformation. This reduced the skewness of the distribution"
   ]
  },
  {
   "cell_type": "code",
   "execution_count": 115,
   "metadata": {},
   "outputs": [
    {
     "data": {
      "image/png": "[encoded data removed]",
      "text/plain": [
       "<matplotlib.figure.Figure at 0x1a23c602b0>"
      ]
     },
     "metadata": {},
     "output_type": "display_data"
    }
   ],
   "source": [
    "# x2 is a feature. It is simulated data. It is skewed right by design. After the impute \n",
    "# process is finished, we want a variety of distrution shapes. This will allows us\n",
    "# to compare the distributions of the imputed data to the source data.\n",
    "import numpy as np\n",
    "show_distribution_hist(df_sim_data,'x2',lambda x: x)"
   ]
  },
  {
   "cell_type": "code",
   "execution_count": 116,
   "metadata": {},
   "outputs": [
    {
     "data": {
      "image/png": "[encoded data removed]",
      "text/plain": [
       "<matplotlib.figure.Figure at 0x1a243681d0>"
      ]
     },
     "metadata": {},
     "output_type": "display_data"
    }
   ],
   "source": [
    "# x3 is a feature. It is simulated data. It is skewed left by design. After the impute \n",
    "# process is finished, we want a variety of distrution shapes. This will allows us\n",
    "# to compare the distributions of the imputed data to the source data.\n",
    "import numpy as np\n",
    "show_distribution_hist(df_sim_data,'x3',lambda x: x)"
   ]
  },
  {
   "cell_type": "code",
   "execution_count": 117,
   "metadata": {},
   "outputs": [
    {
     "data": {
      "image/png": "[encoded data removed]",
      "text/plain": [
       "<matplotlib.figure.Figure at 0x1a252b1a20>"
      ]
     },
     "metadata": {},
     "output_type": "display_data"
    }
   ],
   "source": [
    "# x4 is a feature. It is simulated data. Note is has no skew. After the impute \n",
    "# process is finished, we want a variety of distrution shapes. This will allows us\n",
    "# to compare the distributions of the imputed data to the source data.\n",
    "import numpy as np\n",
    "show_distribution_hist(df_sim_data,'x4',lambda x: x)"
   ]
  },
  {
   "cell_type": "code",
   "execution_count": 118,
   "metadata": {},
   "outputs": [
    {
     "data": {
      "image/png": "[encoded data removed]",
      "text/plain": [
       "<matplotlib.figure.Figure at 0x1a250dd780>"
      ]
     },
     "metadata": {},
     "output_type": "display_data"
    }
   ],
   "source": [
    "# x5 is a feature. It is simulated data. It is skewed right by design. It is also all integer \n",
    "# data. After the impute \n",
    "# process is finished, we want a variety of distrution shapes. This will allows us\n",
    "# to compare the distributions of the imputed data to the source data.\n",
    "import numpy as np\n",
    "show_distribution_hist(df_sim_data,'x5',lambda x: x)"
   ]
  },
  {
   "cell_type": "code",
   "execution_count": null,
   "metadata": {},
   "outputs": [],
   "source": []
  },
  {
   "cell_type": "code",
   "execution_count": null,
   "metadata": {},
   "outputs": [],
   "source": []
  },
  {
   "cell_type": "code",
   "execution_count": 9,
   "metadata": {},
   "outputs": [
    {
     "name": "stdout",
     "output_type": "stream",
     "text": [
      "(2000, 5)\n"
     ]
    },
    {
     "name": "stderr",
     "output_type": "stream",
     "text": [
      "/Users/peterstafford/anaconda3/lib/python3.6/site-packages/h5py/__init__.py:36: FutureWarning: Conversion of the second argument of issubdtype from `float` to `np.floating` is deprecated. In future, it will be treated as `np.float64 == np.dtype(float).type`.\n",
      "  from ._conv import register_converters as _register_converters\n",
      "Using TensorFlow backend.\n"
     ]
    },
    {
     "name": "stdout",
     "output_type": "stream",
     "text": [
      "[MICE] Completing matrix with shape (2000, 5)\n",
      "[MICE] Starting imputation round 1/110, elapsed time 0.002\n",
      "[MICE] Starting imputation round 2/110, elapsed time 1.493\n",
      "[MICE] Starting imputation round 3/110, elapsed time 1.658\n",
      "[MICE] Starting imputation round 4/110, elapsed time 1.911\n",
      "[MICE] Starting imputation round 5/110, elapsed time 2.049\n",
      "[MICE] Starting imputation round 6/110, elapsed time 2.230\n",
      "[MICE] Starting imputation round 7/110, elapsed time 2.383\n",
      "[MICE] Starting imputation round 8/110, elapsed time 2.558\n",
      "[MICE] Starting imputation round 9/110, elapsed time 2.698\n",
      "[MICE] Starting imputation round 10/110, elapsed time 2.850\n",
      "[MICE] Starting imputation round 11/110, elapsed time 2.982\n",
      "[MICE] Starting imputation round 12/110, elapsed time 3.146\n",
      "[MICE] Starting imputation round 13/110, elapsed time 3.279\n",
      "[MICE] Starting imputation round 14/110, elapsed time 3.420\n",
      "[MICE] Starting imputation round 15/110, elapsed time 3.582\n",
      "[MICE] Starting imputation round 16/110, elapsed time 3.750\n",
      "[MICE] Starting imputation round 17/110, elapsed time 3.881\n",
      "[MICE] Starting imputation round 18/110, elapsed time 4.058\n",
      "[MICE] Starting imputation round 19/110, elapsed time 4.187\n",
      "[MICE] Starting imputation round 20/110, elapsed time 4.332\n",
      "[MICE] Starting imputation round 21/110, elapsed time 4.464\n",
      "[MICE] Starting imputation round 22/110, elapsed time 4.635\n",
      "[MICE] Starting imputation round 23/110, elapsed time 4.778\n",
      "[MICE] Starting imputation round 24/110, elapsed time 4.927\n",
      "[MICE] Starting imputation round 25/110, elapsed time 5.059\n",
      "[MICE] Starting imputation round 26/110, elapsed time 5.203\n",
      "[MICE] Starting imputation round 27/110, elapsed time 5.335\n",
      "[MICE] Starting imputation round 28/110, elapsed time 5.481\n",
      "[MICE] Starting imputation round 29/110, elapsed time 5.621\n",
      "[MICE] Starting imputation round 30/110, elapsed time 5.822\n",
      "[MICE] Starting imputation round 31/110, elapsed time 5.959\n",
      "[MICE] Starting imputation round 32/110, elapsed time 6.101\n",
      "[MICE] Starting imputation round 33/110, elapsed time 6.236\n",
      "[MICE] Starting imputation round 34/110, elapsed time 6.379\n",
      "[MICE] Starting imputation round 35/110, elapsed time 6.510\n",
      "[MICE] Starting imputation round 36/110, elapsed time 6.679\n",
      "[MICE] Starting imputation round 37/110, elapsed time 6.850\n",
      "[MICE] Starting imputation round 38/110, elapsed time 7.008\n",
      "[MICE] Starting imputation round 39/110, elapsed time 7.141\n",
      "[MICE] Starting imputation round 40/110, elapsed time 7.285\n",
      "[MICE] Starting imputation round 41/110, elapsed time 7.418\n",
      "[MICE] Starting imputation round 42/110, elapsed time 7.565\n",
      "[MICE] Starting imputation round 43/110, elapsed time 7.697\n",
      "[MICE] Starting imputation round 44/110, elapsed time 7.872\n",
      "[MICE] Starting imputation round 45/110, elapsed time 8.029\n",
      "[MICE] Starting imputation round 46/110, elapsed time 8.174\n",
      "[MICE] Starting imputation round 47/110, elapsed time 8.307\n",
      "[MICE] Starting imputation round 48/110, elapsed time 8.452\n",
      "[MICE] Starting imputation round 49/110, elapsed time 8.583\n",
      "[MICE] Starting imputation round 50/110, elapsed time 8.742\n",
      "[MICE] Starting imputation round 51/110, elapsed time 8.900\n",
      "[MICE] Starting imputation round 52/110, elapsed time 9.094\n",
      "[MICE] Starting imputation round 53/110, elapsed time 9.226\n",
      "[MICE] Starting imputation round 54/110, elapsed time 9.367\n",
      "[MICE] Starting imputation round 55/110, elapsed time 9.498\n",
      "[MICE] Starting imputation round 56/110, elapsed time 9.647\n",
      "[MICE] Starting imputation round 57/110, elapsed time 9.789\n",
      "[MICE] Starting imputation round 58/110, elapsed time 9.972\n",
      "[MICE] Starting imputation round 59/110, elapsed time 10.117\n",
      "[MICE] Starting imputation round 60/110, elapsed time 10.264\n",
      "[MICE] Starting imputation round 61/110, elapsed time 10.396\n",
      "[MICE] Starting imputation round 62/110, elapsed time 10.541\n",
      "[MICE] Starting imputation round 63/110, elapsed time 10.673\n",
      "[MICE] Starting imputation round 64/110, elapsed time 10.821\n",
      "[MICE] Starting imputation round 65/110, elapsed time 10.966\n",
      "[MICE] Starting imputation round 66/110, elapsed time 11.145\n",
      "[MICE] Starting imputation round 67/110, elapsed time 11.281\n",
      "[MICE] Starting imputation round 68/110, elapsed time 11.429\n",
      "[MICE] Starting imputation round 69/110, elapsed time 11.560\n",
      "[MICE] Starting imputation round 70/110, elapsed time 11.702\n",
      "[MICE] Starting imputation round 71/110, elapsed time 11.837\n",
      "[MICE] Starting imputation round 72/110, elapsed time 12.177\n",
      "[MICE] Starting imputation round 73/110, elapsed time 12.316\n",
      "[MICE] Starting imputation round 74/110, elapsed time 12.457\n",
      "[MICE] Starting imputation round 75/110, elapsed time 12.592\n",
      "[MICE] Starting imputation round 76/110, elapsed time 12.737\n",
      "[MICE] Starting imputation round 77/110, elapsed time 12.865\n",
      "[MICE] Starting imputation round 78/110, elapsed time 13.021\n",
      "[MICE] Starting imputation round 79/110, elapsed time 13.183\n",
      "[MICE] Starting imputation round 80/110, elapsed time 13.362\n",
      "[MICE] Starting imputation round 81/110, elapsed time 13.493\n",
      "[MICE] Starting imputation round 82/110, elapsed time 13.637\n",
      "[MICE] Starting imputation round 83/110, elapsed time 13.769\n",
      "[MICE] Starting imputation round 84/110, elapsed time 13.912\n",
      "[MICE] Starting imputation round 85/110, elapsed time 14.041\n",
      "[MICE] Starting imputation round 86/110, elapsed time 14.250\n",
      "[MICE] Starting imputation round 87/110, elapsed time 14.411\n",
      "[MICE] Starting imputation round 88/110, elapsed time 14.552\n",
      "[MICE] Starting imputation round 89/110, elapsed time 14.688\n",
      "[MICE] Starting imputation round 90/110, elapsed time 14.834\n",
      "[MICE] Starting imputation round 91/110, elapsed time 14.969\n",
      "[MICE] Starting imputation round 92/110, elapsed time 15.122\n",
      "[MICE] Starting imputation round 93/110, elapsed time 15.276\n",
      "[MICE] Starting imputation round 94/110, elapsed time 15.472\n",
      "[MICE] Starting imputation round 95/110, elapsed time 15.607\n",
      "[MICE] Starting imputation round 96/110, elapsed time 15.748\n",
      "[MICE] Starting imputation round 97/110, elapsed time 15.882\n",
      "[MICE] Starting imputation round 98/110, elapsed time 16.031\n",
      "[MICE] Starting imputation round 99/110, elapsed time 16.167\n",
      "[MICE] Starting imputation round 100/110, elapsed time 16.354\n",
      "[MICE] Starting imputation round 101/110, elapsed time 16.501\n",
      "[MICE] Starting imputation round 102/110, elapsed time 16.649\n",
      "[MICE] Starting imputation round 103/110, elapsed time 16.780\n",
      "[MICE] Starting imputation round 104/110, elapsed time 16.921\n",
      "[MICE] Starting imputation round 105/110, elapsed time 17.054\n",
      "[MICE] Starting imputation round 106/110, elapsed time 17.193\n",
      "[MICE] Starting imputation round 107/110, elapsed time 17.355\n",
      "[MICE] Starting imputation round 108/110, elapsed time 17.531\n",
      "[MICE] Starting imputation round 109/110, elapsed time 17.672\n",
      "[MICE] Starting imputation round 110/110, elapsed time 17.818\n"
     ]
    }
   ],
   "source": [
    "import pandas as pd\n",
    "from scipy import stats\n",
    "\n",
    "from sklearn.linear_model import BayesianRidge, LinearRegression\n",
    "from sklearn.ensemble import RandomForestRegressor\n",
    "import numpy as np\n",
    "\n",
    "\n",
    "# 30 percent\n",
    "dataframe=df_amp_data\n",
    "print(dataframe.shape)\n",
    "from fancyimpute import MICE\n",
    "solver=MICE(impute_type='pmm')\n",
    "Imputed_dataframe=solver.complete(dataframe.values)\n",
    "Imputed_dataframe=pd.DataFrame(Imputed_dataframe,columns=dataframe.columns.tolist())\n",
    "#Imputed_dataframe.to_csv('train_Python_.csv',index=False)"
   ]
  },
  {
   "cell_type": "markdown",
   "metadata": {},
   "source": [
    "## Below we look at a single feature. We look at a result with 30% missing. The results for all the features are very simular. "
   ]
  },
  {
   "cell_type": "code",
   "execution_count": 16,
   "metadata": {
    "scrolled": true
   },
   "outputs": [
    {
     "data": {
      "image/png": "[encoded data removed]",
      "text/plain": [
       "<matplotlib.figure.Figure at 0x1a256cbfd0>"
      ]
     },
     "metadata": {},
     "output_type": "display_data"
    },
    {
     "data": {
      "image/png": "[encoded data removed]",
      "text/plain": [
       "<matplotlib.figure.Figure at 0x1a25e08ba8>"
      ]
     },
     "metadata": {},
     "output_type": "display_data"
    }
   ],
   "source": [
    "import matplotlib.pyplot as plt\n",
    "plt.subplot(2,3,1)\n",
    "t_column='x3'\n",
    "plt.title(\"x3 Python Impute\")\n",
    "Imputed_dataframe[t_column].hist()\n",
    "plt.subplot(2,3,2)\n",
    "plt.title(\"X3 Source Data\")\n",
    "df_sim_data[t_column].hist()\n",
    "plt.subplot(2,3,4)\n",
    "plt.subplots_adjust(top=1.5)\n",
    "plt.title(\"X3 R Impute\")\n",
    "df_imputed_r_data[t_column].hist()\n",
    "plt.subplot(2,3,5)\n",
    "plt.subplots_adjust(top=1.5)\n",
    "df_sim_data[t_column].hist()\n",
    "plt.title(\"X3 Source Data\")\n",
    "#plt.subplot(2,3,6)\n",
    "fig, ax = plt.subplots()\n",
    "pm, pc = plt.bar([1,2], (.002,.002))\n",
    "pm.set_facecolor('r')\n",
    "pc.set_facecolor('g')\n",
    "#pn.set_facecolor('b')\n",
    "ax.set_xticks(ind)\n",
    "ax.set_xticklabels(['Python Mice', 'R Mice'])\n",
    "ax.set_ylabel('Error')\n",
    "ax.set_title('MAE')\n",
    "\n",
    "\n",
    "tShape=df_sim_data.shape\n",
    "t_cells=tShape[0]*tShape[1]\n",
    "py_error=sum(abs(Imputed_dataframe[t_column]-df_sim_data[t_column]))/t_cells\n",
    "r_error=sum(abs(df_imputed_r_data[t_column]-df_sim_data[t_column]))/t_cells\n",
    "pm.set_height(py_error)\n",
    "pc.set_height(r_error)\n",
    "\n",
    "plt.show()"
   ]
  },
  {
   "cell_type": "markdown",
   "metadata": {},
   "source": [
    "#### In the histogram plots above, the R imputes appear to have a distribution that matches the source data closer than the Python imputes. However the bar plot shows that the errors for R are a bit larger than the errors for Python. Since the impute process is stochastic, these plots can change from run to run. To get a clear picture, we should simulate a lot of different mixes of data and save histograms and the values of the error from each run. We can compare the error values using a t-test. Also, there are techniques for calculating histogram distance (py MICE vs baseline hist and R MICE vs baseline hist ) that result in a numeric value. We can use a statistical test to see if the distances are equal etc. This will be done at a future date. "
   ]
  },
  {
   "cell_type": "code",
   "execution_count": null,
   "metadata": {},
   "outputs": [],
   "source": []
  }
 ],
 "metadata": {
  "kernelspec": {
   "display_name": "Python [conda env:anaconda3]",
   "language": "python",
   "name": "conda-env-anaconda3-py"
  },
  "language_info": {
   "codemirror_mode": {
    "name": "ipython",
    "version": 3
   },
   "file_extension": ".py",
   "mimetype": "text/x-python",
   "name": "python",
   "nbconvert_exporter": "python",
   "pygments_lexer": "ipython3",
   "version": "3.6.4"
  }
 },
 "nbformat": 4,
 "nbformat_minor": 2
}
