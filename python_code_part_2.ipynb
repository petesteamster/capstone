{
 "cells": [
  {
   "cell_type": "code",
   "execution_count": 1,
   "metadata": {},
   "outputs": [
    {
     "name": "stdout",
     "output_type": "stream",
     "text": [
      "<class 'pandas.core.frame.DataFrame'>\n",
      "RangeIndex: 2000 entries, 0 to 1999\n",
      "Data columns (total 5 columns):\n",
      "x1    2000 non-null float64\n",
      "x2    2000 non-null float64\n",
      "x3    2000 non-null float64\n",
      "x4    2000 non-null float64\n",
      "x5    2000 non-null int64\n",
      "dtypes: float64(4), int64(1)\n",
      "memory usage: 78.2 KB\n",
      "None\n"
     ]
    }
   ],
   "source": [
    "import pandas as pd\n",
    "df_sim_data=pd.read_csv('sim_data.csv')\n",
    "df_amp_data=pd.read_csv('amp_data.csv')\n",
    "df_imputed_r_data=pd.read_csv('imputed_r_30_percent_data.csv')\n",
    "print(df_sim_data.info())"
   ]
  },
  {
   "cell_type": "code",
   "execution_count": 2,
   "metadata": {},
   "outputs": [
    {
     "name": "stdout",
     "output_type": "stream",
     "text": [
      "<class 'pandas.core.frame.DataFrame'>\n",
      "RangeIndex: 2000 entries, 0 to 1999\n",
      "Data columns (total 5 columns):\n",
      "x1    2000 non-null float64\n",
      "x2    1400 non-null float64\n",
      "x3    1400 non-null float64\n",
      "x4    1400 non-null float64\n",
      "x5    1400 non-null float64\n",
      "dtypes: float64(5)\n",
      "memory usage: 78.2 KB\n"
     ]
    }
   ],
   "source": [
    "df_amp_data=pd.read_csv('amp_data.csv')\n",
    "df_amp_data.info()"
   ]
  },
  {
   "cell_type": "markdown",
   "metadata": {},
   "source": [
    "#### Below we look at the distribution of the target (salary). Note that it is skewed to the right. We should apply a transformation in at attempt to get something more normal"
   ]
  },
  {
   "cell_type": "code",
   "execution_count": 3,
   "metadata": {},
   "outputs": [],
   "source": [
    "def show_distribution_hist(df,t_column,t_trans):\n",
    "    import matplotlib.pyplot as plt\n",
    "    import numpy as np\n",
    "    df[t_column].apply(t_trans).hist()\n",
    "    plt.show()"
   ]
  },
  {
   "cell_type": "code",
   "execution_count": 4,
   "metadata": {},
   "outputs": [
    {
     "data": {
      "text/plain": [
       "<matplotlib.figure.Figure at 0x10fa0fdd8>"
      ]
     },
     "metadata": {},
     "output_type": "display_data"
    }
   ],
   "source": [
    "# x1 will be the target variable\n",
    "import numpy as np\n",
    "show_distribution_hist(df_sim_data,'x1',lambda x: x)"
   ]
  },
  {
   "cell_type": "markdown",
   "metadata": {},
   "source": [
    "#### Below we apply a log tranformation. This reduced the skewness of the distribution"
   ]
  },
  {
   "cell_type": "code",
   "execution_count": 5,
   "metadata": {},
   "outputs": [
    {
     "data": {
      "image/png": "[encoded data removed]",
      "text/plain": [
       "<matplotlib.figure.Figure at 0x11308e2b0>"
      ]
     },
     "metadata": {},
     "output_type": "display_data"
    }
   ],
   "source": [
    "# x2 is a feature. It is simulated data. It is skewed right by design. After the impute \n",
    "# process is finished, we want a variety of distrution shapes. This will allows us\n",
    "# to compare the distributions of the imputed data to the source data.\n",
    "import numpy as np\n",
    "show_distribution_hist(df_sim_data,'x2',lambda x: x)"
   ]
  },
  {
   "cell_type": "code",
   "execution_count": 6,
   "metadata": {},
   "outputs": [
    {
     "data": {
      "image/png": "[encoded data removed]",
      "text/plain": [
       "<matplotlib.figure.Figure at 0x11ae540f0>"
      ]
     },
     "metadata": {},
     "output_type": "display_data"
    }
   ],
   "source": [
    "# x3 is a feature. It is simulated data. It is skewed left by design. After the impute \n",
    "# process is finished, we want a variety of distrution shapes. This will allows us\n",
    "# to compare the distributions of the imputed data to the source data.\n",
    "import numpy as np\n",
    "show_distribution_hist(df_sim_data,'x3',lambda x: x)"
   ]
  },
  {
   "cell_type": "code",
   "execution_count": 7,
   "metadata": {},
   "outputs": [
    {
     "data": {
      "image/png": "[encoded data removed]",
      "text/plain": [
       "<matplotlib.figure.Figure at 0x11af51208>"
      ]
     },
     "metadata": {},
     "output_type": "display_data"
    }
   ],
   "source": [
    "# x4 is a feature. It is simulated data. Note is has no skew. After the impute \n",
    "# process is finished, we want a variety of distrution shapes. This will allows us\n",
    "# to compare the distributions of the imputed data to the source data.\n",
    "import numpy as np\n",
    "show_distribution_hist(df_sim_data,'x4',lambda x: x)"
   ]
  },
  {
   "cell_type": "code",
   "execution_count": 8,
   "metadata": {},
   "outputs": [
    {
     "data": {
      "image/png": "[encoded data removed]",
      "text/plain": [
       "<matplotlib.figure.Figure at 0x112bbbcf8>"
      ]
     },
     "metadata": {},
     "output_type": "display_data"
    }
   ],
   "source": [
    "# x5 is a feature. It is simulated data. It is skewed right by design. It is also all integer \n",
    "# data. After the impute \n",
    "# process is finished, we want a variety of distrution shapes. This will allows us\n",
    "# to compare the distributions of the imputed data to the source data.\n",
    "import numpy as np\n",
    "show_distribution_hist(df_sim_data,'x5',lambda x: x)"
   ]
  },
  {
   "cell_type": "code",
   "execution_count": null,
   "metadata": {},
   "outputs": [],
   "source": []
  },
  {
   "cell_type": "code",
   "execution_count": null,
   "metadata": {},
   "outputs": [],
   "source": []
  },
  {
   "cell_type": "code",
   "execution_count": 9,
   "metadata": {},
   "outputs": [
    {
     "name": "stdout",
     "output_type": "stream",
     "text": [
      "(2000, 5)\n"
     ]
    },
    {
     "name": "stderr",
     "output_type": "stream",
     "text": [
      "/Users/peterstafford/anaconda3/lib/python3.6/site-packages/h5py/__init__.py:36: FutureWarning: Conversion of the second argument of issubdtype from `float` to `np.floating` is deprecated. In future, it will be treated as `np.float64 == np.dtype(float).type`.\n",
      "  from ._conv import register_converters as _register_converters\n",
      "Using TensorFlow backend.\n"
     ]
    },
    {
     "name": "stdout",
     "output_type": "stream",
     "text": [
      "[MICE] Completing matrix with shape (2000, 5)\n",
      "[MICE] Starting imputation round 1/110, elapsed time 0.001\n",
      "[MICE] Starting imputation round 2/110, elapsed time 0.706\n",
      "[MICE] Starting imputation round 3/110, elapsed time 0.839\n",
      "[MICE] Starting imputation round 4/110, elapsed time 0.985\n",
      "[MICE] Starting imputation round 5/110, elapsed time 1.118\n",
      "[MICE] Starting imputation round 6/110, elapsed time 1.264\n",
      "[MICE] Starting imputation round 7/110, elapsed time 1.424\n",
      "[MICE] Starting imputation round 8/110, elapsed time 1.581\n",
      "[MICE] Starting imputation round 9/110, elapsed time 1.736\n",
      "[MICE] Starting imputation round 10/110, elapsed time 1.887\n",
      "[MICE] Starting imputation round 11/110, elapsed time 2.020\n",
      "[MICE] Starting imputation round 12/110, elapsed time 2.161\n",
      "[MICE] Starting imputation round 13/110, elapsed time 2.292\n",
      "[MICE] Starting imputation round 14/110, elapsed time 2.435\n",
      "[MICE] Starting imputation round 15/110, elapsed time 2.566\n",
      "[MICE] Starting imputation round 16/110, elapsed time 2.741\n",
      "[MICE] Starting imputation round 17/110, elapsed time 2.878\n",
      "[MICE] Starting imputation round 18/110, elapsed time 3.037\n",
      "[MICE] Starting imputation round 19/110, elapsed time 3.169\n",
      "[MICE] Starting imputation round 20/110, elapsed time 3.316\n",
      "[MICE] Starting imputation round 21/110, elapsed time 3.453\n",
      "[MICE] Starting imputation round 22/110, elapsed time 3.599\n",
      "[MICE] Starting imputation round 23/110, elapsed time 3.728\n",
      "[MICE] Starting imputation round 24/110, elapsed time 3.897\n",
      "[MICE] Starting imputation round 25/110, elapsed time 4.062\n",
      "[MICE] Starting imputation round 26/110, elapsed time 4.207\n",
      "[MICE] Starting imputation round 27/110, elapsed time 4.340\n",
      "[MICE] Starting imputation round 28/110, elapsed time 4.482\n",
      "[MICE] Starting imputation round 29/110, elapsed time 4.623\n",
      "[MICE] Starting imputation round 30/110, elapsed time 4.769\n",
      "[MICE] Starting imputation round 31/110, elapsed time 4.917\n",
      "[MICE] Starting imputation round 32/110, elapsed time 5.083\n",
      "[MICE] Starting imputation round 33/110, elapsed time 5.219\n",
      "[MICE] Starting imputation round 34/110, elapsed time 5.361\n",
      "[MICE] Starting imputation round 35/110, elapsed time 5.495\n",
      "[MICE] Starting imputation round 36/110, elapsed time 5.641\n",
      "[MICE] Starting imputation round 37/110, elapsed time 5.773\n",
      "[MICE] Starting imputation round 38/110, elapsed time 5.926\n",
      "[MICE] Starting imputation round 39/110, elapsed time 6.069\n",
      "[MICE] Starting imputation round 40/110, elapsed time 6.231\n",
      "[MICE] Starting imputation round 41/110, elapsed time 6.366\n",
      "[MICE] Starting imputation round 42/110, elapsed time 6.525\n",
      "[MICE] Starting imputation round 43/110, elapsed time 6.656\n",
      "[MICE] Starting imputation round 44/110, elapsed time 6.804\n",
      "[MICE] Starting imputation round 45/110, elapsed time 6.934\n",
      "[MICE] Starting imputation round 46/110, elapsed time 7.103\n",
      "[MICE] Starting imputation round 47/110, elapsed time 7.240\n",
      "[MICE] Starting imputation round 48/110, elapsed time 7.379\n",
      "[MICE] Starting imputation round 49/110, elapsed time 7.513\n",
      "[MICE] Starting imputation round 50/110, elapsed time 7.654\n",
      "[MICE] Starting imputation round 51/110, elapsed time 7.790\n",
      "[MICE] Starting imputation round 52/110, elapsed time 7.933\n",
      "[MICE] Starting imputation round 53/110, elapsed time 8.090\n",
      "[MICE] Starting imputation round 54/110, elapsed time 8.258\n",
      "[MICE] Starting imputation round 55/110, elapsed time 8.385\n",
      "[MICE] Starting imputation round 56/110, elapsed time 8.530\n",
      "[MICE] Starting imputation round 57/110, elapsed time 8.663\n",
      "[MICE] Starting imputation round 58/110, elapsed time 8.806\n",
      "[MICE] Starting imputation round 59/110, elapsed time 8.935\n",
      "[MICE] Starting imputation round 60/110, elapsed time 9.078\n",
      "[MICE] Starting imputation round 61/110, elapsed time 9.216\n",
      "[MICE] Starting imputation round 62/110, elapsed time 9.396\n",
      "[MICE] Starting imputation round 63/110, elapsed time 9.528\n",
      "[MICE] Starting imputation round 64/110, elapsed time 9.671\n",
      "[MICE] Starting imputation round 65/110, elapsed time 9.805\n",
      "[MICE] Starting imputation round 66/110, elapsed time 9.949\n",
      "[MICE] Starting imputation round 67/110, elapsed time 10.081\n",
      "[MICE] Starting imputation round 68/110, elapsed time 10.233\n",
      "[MICE] Starting imputation round 69/110, elapsed time 10.376\n",
      "[MICE] Starting imputation round 70/110, elapsed time 10.530\n",
      "[MICE] Starting imputation round 71/110, elapsed time 10.666\n",
      "[MICE] Starting imputation round 72/110, elapsed time 10.803\n",
      "[MICE] Starting imputation round 73/110, elapsed time 10.934\n",
      "[MICE] Starting imputation round 74/110, elapsed time 11.077\n",
      "[MICE] Starting imputation round 75/110, elapsed time 11.210\n",
      "[MICE] Starting imputation round 76/110, elapsed time 11.370\n",
      "[MICE] Starting imputation round 77/110, elapsed time 11.504\n",
      "[MICE] Starting imputation round 78/110, elapsed time 11.662\n",
      "[MICE] Starting imputation round 79/110, elapsed time 11.794\n",
      "[MICE] Starting imputation round 80/110, elapsed time 11.941\n",
      "[MICE] Starting imputation round 81/110, elapsed time 12.075\n",
      "[MICE] Starting imputation round 82/110, elapsed time 12.226\n",
      "[MICE] Starting imputation round 83/110, elapsed time 12.359\n",
      "[MICE] Starting imputation round 84/110, elapsed time 12.539\n",
      "[MICE] Starting imputation round 85/110, elapsed time 12.674\n",
      "[MICE] Starting imputation round 86/110, elapsed time 12.814\n",
      "[MICE] Starting imputation round 87/110, elapsed time 12.944\n",
      "[MICE] Starting imputation round 88/110, elapsed time 13.089\n",
      "[MICE] Starting imputation round 89/110, elapsed time 13.224\n",
      "[MICE] Starting imputation round 90/110, elapsed time 13.362\n",
      "[MICE] Starting imputation round 91/110, elapsed time 13.523\n",
      "[MICE] Starting imputation round 92/110, elapsed time 13.689\n",
      "[MICE] Starting imputation round 93/110, elapsed time 13.820\n",
      "[MICE] Starting imputation round 94/110, elapsed time 13.963\n",
      "[MICE] Starting imputation round 95/110, elapsed time 14.094\n",
      "[MICE] Starting imputation round 96/110, elapsed time 14.238\n",
      "[MICE] Starting imputation round 97/110, elapsed time 14.370\n",
      "[MICE] Starting imputation round 98/110, elapsed time 14.568\n",
      "[MICE] Starting imputation round 99/110, elapsed time 14.704\n",
      "[MICE] Starting imputation round 100/110, elapsed time 14.859\n",
      "[MICE] Starting imputation round 101/110, elapsed time 14.993\n",
      "[MICE] Starting imputation round 102/110, elapsed time 15.136\n",
      "[MICE] Starting imputation round 103/110, elapsed time 15.266\n",
      "[MICE] Starting imputation round 104/110, elapsed time 15.421\n",
      "[MICE] Starting imputation round 105/110, elapsed time 15.556\n",
      "[MICE] Starting imputation round 106/110, elapsed time 15.711\n",
      "[MICE] Starting imputation round 107/110, elapsed time 15.841\n",
      "[MICE] Starting imputation round 108/110, elapsed time 15.979\n",
      "[MICE] Starting imputation round 109/110, elapsed time 16.113\n",
      "[MICE] Starting imputation round 110/110, elapsed time 16.252\n"
     ]
    }
   ],
   "source": [
    "import pandas as pd\n",
    "from scipy import stats\n",
    "\n",
    "from sklearn.linear_model import BayesianRidge, LinearRegression\n",
    "from sklearn.ensemble import RandomForestRegressor\n",
    "import numpy as np\n",
    "\n",
    "\n",
    "# 30 percent\n",
    "dataframe=df_amp_data\n",
    "print(dataframe.shape)\n",
    "from fancyimpute import MICE\n",
    "solver=MICE(impute_type='pmm')\n",
    "Imputed_dataframe=solver.complete(dataframe.values)\n",
    "Imputed_dataframe=pd.DataFrame(Imputed_dataframe,columns=dataframe.columns.tolist())\n",
    "Imputed_dataframe.to_csv('train_Python_.csv',index=False)"
   ]
  },
  {
   "cell_type": "markdown",
   "metadata": {},
   "source": [
    "## Below we look at a single feature. We look at a result with 30% missing. The results for all the features are very simular. "
   ]
  },
  {
   "cell_type": "code",
   "execution_count": 11,
   "metadata": {
    "scrolled": true
   },
   "outputs": [
    {
     "name": "stdout",
     "output_type": "stream",
     "text": [
      "45.0126\n"
     ]
    },
    {
     "data": {
      "image/png": "[encoded data removed]",
      "text/plain": [
       "<matplotlib.figure.Figure at 0x1a27c62358>"
      ]
     },
     "metadata": {},
     "output_type": "display_data"
    },
    {
     "data": {
      "image/png": "[encoded data removed]",
      "text/plain": [
       "<matplotlib.figure.Figure at 0x1a27d31668>"
      ]
     },
     "metadata": {},
     "output_type": "display_data"
    }
   ],
   "source": [
    "import matplotlib.pyplot as plt\n",
    "plt.subplot(2,3,1)\n",
    "plt.ylim((0, 1200))\n",
    "t_column='x5'\n",
    "plt.title(\"x3 Python Impute\")\n",
    "Imputed_dataframe[t_column].hist()\n",
    "plt.subplot(2,3,2)\n",
    "plt.ylim((0, 1200))\n",
    "plt.title(\"X3 Source Data\")\n",
    "df_sim_data[t_column].hist()\n",
    "plt.subplot(2,3,4)\n",
    "plt.ylim((0, 1200))\n",
    "plt.subplots_adjust(top=1.5)\n",
    "plt.title(\"X3 R Impute\")\n",
    "df_imputed_r_data[t_column].hist()\n",
    "plt.subplot(2,3,5)\n",
    "plt.ylim((0, 1200))\n",
    "plt.subplots_adjust(top=1.5)\n",
    "df_sim_data[t_column].hist()\n",
    "plt.title(\"X3 Source Data\")\n",
    "#plt.subplot(2,3,6)\n",
    "fig, ax = plt.subplots()\n",
    "tShape=df_sim_data.shape\n",
    "t_cells=tShape[0]*tShape[1]\n",
    "py_error=sum(abs(Imputed_dataframe[t_column]-df_sim_data[t_column]))/t_cells\n",
    "r_error=sum(abs(df_imputed_r_data[t_column]-df_sim_data[t_column]))/t_cells\n",
    "pm, pc = plt.bar([1,2], (50,50))\n",
    "pm.set_facecolor('r')\n",
    "pc.set_facecolor('g')\n",
    "#pn.set_facecolor('b')\n",
    "ax.set_xticks([1,2])\n",
    "ax.set_xticklabels(['Python Mice', 'R Mice'])\n",
    "ax.set_ylabel('Error')\n",
    "ax.set_title('MAE')\n",
    "\n",
    "\n",
    "\n",
    "py_error=sum(abs(Imputed_dataframe[t_column]-df_sim_data[t_column]))/t_cells\n",
    "r_error=sum(abs(df_imputed_r_data[t_column]-df_sim_data[t_column]))/t_cells\n",
    "pm.set_height(py_error)\n",
    "pc.set_height(r_error)\n",
    "print(r_error)\n",
    "plt.show()"
   ]
  },
  {
   "cell_type": "markdown",
   "metadata": {},
   "source": [
    "#### In the histogram plots above, the R imputes appear to have a distribution that matches the source data closer than the Python imputes. However the bar plot shows that the errors for R are a bit larger than the errors for Python. Since the impute process is stochastic, these plots can change from run to run. To get a clear picture, we should simulate a lot of different mixes of data and save histograms and the values of the error from each run. We can compare the error values using a t-test. Also, there are techniques for calculating histogram distance (py MICE vs baseline hist and R MICE vs baseline hist ) that result in a numeric value. We can use a statistical test to see if the distances are equal etc. This will be done at a future date. "
   ]
  },
  {
   "cell_type": "code",
   "execution_count": 12,
   "metadata": {},
   "outputs": [
    {
     "data": {
      "text/plain": [
       "Ks_2sampResult(statistic=0.015000000000000013, pvalue=0.9771698677536018)"
      ]
     },
     "execution_count": 12,
     "metadata": {},
     "output_type": "execute_result"
    }
   ],
   "source": [
    "from scipy.stats import ks_2samp\n",
    "import numpy as np\n",
    "ks_2samp(df_imputed_r_data[t_column].values,df_sim_data[t_column].values)"
   ]
  },
  {
   "cell_type": "code",
   "execution_count": 13,
   "metadata": {},
   "outputs": [
    {
     "data": {
      "text/plain": [
       "Ks_2sampResult(statistic=0.0665, pvalue=0.0002690647512258997)"
      ]
     },
     "execution_count": 13,
     "metadata": {},
     "output_type": "execute_result"
    }
   ],
   "source": [
    "from scipy.stats import ks_2samp\n",
    "import numpy as np\n",
    "ks_2samp(Imputed_dataframe[t_column].values,df_sim_data[t_column].values)"
   ]
  },
  {
   "cell_type": "code",
   "execution_count": null,
   "metadata": {},
   "outputs": [],
   "source": []
  }
 ],
 "metadata": {
  "kernelspec": {
   "display_name": "Python [conda env:anaconda3]",
   "language": "python",
   "name": "conda-env-anaconda3-py"
  },
  "language_info": {
   "codemirror_mode": {
    "name": "ipython",
    "version": 3
   },
   "file_extension": ".py",
   "mimetype": "text/x-python",
   "name": "python",
   "nbconvert_exporter": "python",
   "pygments_lexer": "ipython3",
   "version": "3.6.4"
  }
 },
 "nbformat": 4,
 "nbformat_minor": 2
}
